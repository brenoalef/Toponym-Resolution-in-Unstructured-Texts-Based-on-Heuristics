{
 "cells": [
  {
   "cell_type": "code",
   "execution_count": 58,
   "id": "bb169f61-4c8c-4cb7-847c-8ca921e24f4d",
   "metadata": {},
   "outputs": [],
   "source": [
    "from elasticsearch import Elasticsearch, helpers\n",
    "import regex as re\n",
    "from subprocess import Popen, PIPE, STDOUT\n",
    "import os\n",
    "import pandas as pd\n",
    "import re\n",
    "\n",
    "from tqdm.notebook import tqdm\n",
    "\n",
    "import numpy as np\n",
    "\n",
    "tqdm.pandas(desc=\"Progress\")\n"
   ]
  },
  {
   "cell_type": "code",
   "execution_count": 59,
   "id": "d3d430e8-3e63-4ab8-bb6f-29c40df9dbe1",
   "metadata": {},
   "outputs": [
    {
     "name": "stderr",
     "output_type": "stream",
     "text": [
      "<ipython-input-59-09391bbada40>:1: DeprecationWarning: The 'timeout' parameter is deprecated in favor of 'request_timeout'\n",
      "  es_server = Elasticsearch(\n"
     ]
    }
   ],
   "source": [
    "es_server = Elasticsearch(\n",
    "    hosts=[\"http://localhost:9200\"], timeout=60, retry_on_timeout=True)\n"
   ]
  },
  {
   "cell_type": "code",
   "execution_count": 60,
   "id": "88eb1336-f369-4446-b010-2a5ec725a284",
   "metadata": {},
   "outputs": [
    {
     "data": {
      "text/plain": [
       "True"
      ]
     },
     "execution_count": 60,
     "metadata": {},
     "output_type": "execute_result"
    }
   ],
   "source": [
    "es_server.ping()\n"
   ]
  },
  {
   "cell_type": "code",
   "execution_count": 61,
   "id": "d385d82a-8e1e-4181-9b2a-89aff46dc445",
   "metadata": {},
   "outputs": [
    {
     "name": "stdout",
     "output_type": "stream",
     "text": [
      "{\n",
      "  \"acknowledged\" : true\n",
      "}\n"
     ]
    }
   ],
   "source": [
    "!curl -X PUT \"http://localhost:9200/_snapshot/es_repo?pretty\" -H 'Content-Type: application/json' -d '{\"type\": \"fs\", \"settings\": { \"location\": \"/usr/share/elasticsearch/es_repo\",  \"compress\": true} }'\n"
   ]
  },
  {
   "cell_type": "code",
   "execution_count": 62,
   "id": "b467c897-d58b-4258-9a75-94d4dc324e4e",
   "metadata": {},
   "outputs": [
    {
     "data": {
      "text/plain": [
       "ObjectApiResponse({'es_repo': {'type': 'fs', 'settings': {'compress': 'true', 'location': '/usr/share/elasticsearch/es_repo'}}})"
      ]
     },
     "execution_count": 62,
     "metadata": {},
     "output_type": "execute_result"
    }
   ],
   "source": [
    "es_server.snapshot.get_repository(name=\"es_repo\")\n"
   ]
  },
  {
   "cell_type": "code",
   "execution_count": 133,
   "id": "3a412924-b5d1-4085-bd4d-e518bed2d711",
   "metadata": {},
   "outputs": [
    {
     "name": "stdout",
     "output_type": "stream",
     "text": [
      "{\n",
      "  \"snapshots\" : [\n",
      "    {\n",
      "      \"snapshot\" : \"geonames_snapshot_demonyms\",\n",
      "      \"uuid\" : \"iDpznuFNTluOIGDIS5t0yA\",\n",
      "      \"repository\" : \"es_repo\",\n",
      "      \"version_id\" : 7140299,\n",
      "      \"version\" : \"7.14.2\",\n",
      "      \"indices\" : [\n",
      "        \".geoip_databases\",\n",
      "        \"geonames\",\n",
      "        \"demonyms\"\n",
      "      ],\n",
      "      \"data_streams\" : [ ],\n",
      "      \"include_global_state\" : false,\n",
      "      \"state\" : \"SUCCESS\",\n",
      "      \"start_time\" : \"2022-11-11T10:17:58.621Z\",\n",
      "      \"start_time_in_millis\" : 1668161878621,\n",
      "      \"end_time\" : \"2022-11-11T10:19:15.250Z\",\n",
      "      \"end_time_in_millis\" : 1668161955250,\n",
      "      \"duration_in_millis\" : 76629,\n",
      "      \"failures\" : [ ],\n",
      "      \"shards\" : {\n",
      "        \"total\" : 3,\n",
      "        \"failed\" : 0,\n",
      "        \"successful\" : 3\n",
      "      },\n",
      "      \"feature_states\" : [ ]\n",
      "    }\n",
      "  ]\n",
      "}\n"
     ]
    }
   ],
   "source": [
    "!curl -X GET \"http://localhost:9200/_snapshot/es_repo/_all?pretty\"\n"
   ]
  },
  {
   "cell_type": "code",
   "execution_count": 64,
   "id": "51c45b63-fd54-47b2-8b2b-c1d2be69213f",
   "metadata": {},
   "outputs": [
    {
     "name": "stdout",
     "output_type": "stream",
     "text": [
      "{\n",
      "  \"snapshot\" : {\n",
      "    \"snapshot\" : \"geonames_snapshot_denonyms\",\n",
      "    \"indices\" : [\n",
      "      \"geonames\",\n",
      "      \"denonyms\"\n",
      "    ],\n",
      "    \"shards\" : {\n",
      "      \"total\" : 2,\n",
      "      \"failed\" : 0,\n",
      "      \"successful\" : 2\n",
      "    }\n",
      "  }\n",
      "}\n"
     ]
    }
   ],
   "source": [
    "!curl -X POST \"http://localhost:9200/_snapshot/es_repo/geonames_snapshot_denonyms/_restore?pretty&wait_for_completion=true\" -H 'Content-Type: application/json' -d '{ \"ignore_unavailable\": true, \"include_global_state\": false }'\n"
   ]
  },
  {
   "cell_type": "code",
   "execution_count": 65,
   "id": "5595f6ae-91a1-4bd5-81e9-eedd41791da1",
   "metadata": {},
   "outputs": [
    {
     "name": "stdout",
     "output_type": "stream",
     "text": [
      "green  open .geoip_databases LsYDpLtdT7-wLP64-8CPFQ 1 0       41 0 39.3mb 39.3mb\n",
      "yellow open denonyms         gkgGtaNxRIKV4ConlPP-Nw 1 1      261 3 88.6kb 88.6kb\n",
      "yellow open geonames         R-WzMbwsROenRyXTOp9WoA 1 1 12081476 0  2.9gb  2.9gb\n"
     ]
    }
   ],
   "source": [
    "!curl -XGET \"http://localhost:9200/_cat/indices?pretty\"\n"
   ]
  },
  {
   "cell_type": "code",
   "execution_count": 66,
   "id": "e0ceff30-3a24-41b7-82fb-be8a1511f4cc",
   "metadata": {},
   "outputs": [],
   "source": [
    "def get_coordinates_es(loc_name, exact_matching=True):\n",
    "    txt = loc_name.lower()\n",
    "    if exact_matching:\n",
    "        query = {\n",
    "                \"bool\": {\n",
    "                    \"should\": [\n",
    "                        {\"term\": {\"name2\": txt}},\n",
    "                        {\"term\": {\"asciiname2\": txt}},\n",
    "                        {\"term\": {\"alternatenames2\": txt}}\n",
    "                    ]\n",
    "                }\n",
    "            }\n",
    "    else:\n",
    "        query = {\n",
    "                \"bool\": {\n",
    "                    \"must\": {\n",
    "                        \"multi_match\": {\n",
    "                            \"query\": txt,\n",
    "                            \"fields\": ['name', 'asciiname', 'alternatenames'],\n",
    "                            \"operator\":   \"and\"\n",
    "                        }\n",
    "                    }\n",
    "                }\n",
    "            }\n",
    "    result = []\n",
    "    for query_result in es_server.search(index=\"geonames\", query=query, size=50)[\"hits\"][\"hits\"]:\n",
    "        source = query_result[\"_source\"]\n",
    "        result.append((source[\"latitude\"], source[\"longitude\"], source.get(\n",
    "            \"population\", 0), source.get(\"feature_code\", \"W\")))\n",
    "    result.sort(key=lambda candidate: candidate[2], reverse=True)\n",
    "    return result\n"
   ]
  },
  {
   "cell_type": "code",
   "execution_count": 67,
   "id": "6f9ab495-5d8a-4a49-a121-bec9daadcf30",
   "metadata": {},
   "outputs": [
    {
     "data": {
      "text/plain": [
       "[(-10.0, -55.0, 209469333, 'PCLI'),\n",
       " (39.52365, -87.12501999999999, 8109, 'PPLA2'),\n",
       " (1.63414, -75.5719, 0, 'PPL'),\n",
       " (34.0265, -90.28065, 0, 'PPL'),\n",
       " (35.91757, -89.06257, 0, 'PPL'),\n",
       " (14.32438, 120.9784, 0, 'ST'),\n",
       " (10.55471, -61.275690000000004, 0, 'PPL'),\n",
       " (40.758070000000004, -92.95437, 0, 'W'),\n",
       " (40.758070000000004, -92.95437, 0, 'PPL'),\n",
       " (37.524809999999995, -84.04159, 0, 'PPL'),\n",
       " (37.84616, -91.06347, 0, 'PPL'),\n",
       " (-27.96667, 30.066670000000002, 0, 'FRM'),\n",
       " (-29.816670000000002, 17.133329999999997, 0, 'LCTY'),\n",
       " (-29.84057, 17.12048, 0, 'FRM'),\n",
       " (12.64933, -86.2379, 0, 'PPL'),\n",
       " (12.26063, -85.92436, 0, 'PPL'),\n",
       " (33.522659999999995, 36.2819, 0, 'DIP')]"
      ]
     },
     "execution_count": 67,
     "metadata": {},
     "output_type": "execute_result"
    }
   ],
   "source": [
    "get_coordinates_es(\"Brazil\")\n"
   ]
  },
  {
   "cell_type": "code",
   "execution_count": 119,
   "id": "7a6ab712-97b4-44af-b2ad-85162e43502e",
   "metadata": {},
   "outputs": [],
   "source": [
    "def get_full_name_es(demonym, exact_matching=True):\n",
    "    txt = demonym.lower()\n",
    "    if exact_matching: \n",
    "      query = {\n",
    "        \"query\": {\n",
    "          \"bool\": {\n",
    "            \"should\": [\n",
    "              { \"term\": { \"adjectivals_lower\": txt }},\n",
    "              { \"term\": { \"demonyms_lower\": txt }}\n",
    "            ]\n",
    "          }\n",
    "        }\n",
    "      }\n",
    "    else:\n",
    "      query = {\n",
    "        \"query\": {\n",
    "          \"bool\": {\n",
    "            \"must\": {\n",
    "              \"multi_match\": {\n",
    "                \"query\": txt,\n",
    "                \"fields\": ['adjectivals', 'demonyms'],\n",
    "                \"operator\":   \"and\"\n",
    "              }\n",
    "            }\n",
    "          }\n",
    "        }\n",
    "      }\n",
    "    result = []\n",
    "    for query_result in es_server.search(index=\"demonyms\", body=query, size=50)[\"hits\"][\"hits\"]:\n",
    "        source = query_result[\"_source\"]\n",
    "        result.append((source[\"entity_name\"], source[\"geonames_id\"], source[\"geonames_name\"], source[\"adjectivals\"], source[\"demonyms\"]))\n",
    "    return result"
   ]
  },
  {
   "cell_type": "code",
   "execution_count": null,
   "id": "2512829f-eddb-4b1a-95e0-e7e0945499bd",
   "metadata": {},
   "outputs": [
    {
     "name": "stderr",
     "output_type": "stream",
     "text": [
      "<ipython-input-112-4aa5c5815717>:29: DeprecationWarning: The 'body' parameter is deprecated and will be removed in a future version. Instead use individual parameters.\n",
      "  for query_result in es_server.search(index=\"denonyms\", body=query, size=50)[\"hits\"][\"hits\"]:\n"
     ]
    },
    {
     "data": {
      "text/plain": [
       "[('Western Sahara',\n",
       "  2461445,\n",
       "  'Western Sahara',\n",
       "  ['Sahrawi', ' Sahrawian', ' Sahraouian'],\n",
       "  ['Sahrawis', ' Sahraouis'])]"
      ]
     },
     "execution_count": 113,
     "metadata": {},
     "output_type": "execute_result"
    }
   ],
   "source": [
    "get_full_name_es(\"Sahrawi\", False)"
   ]
  },
  {
   "cell_type": "code",
   "execution_count": null,
   "id": "25df8c3d-9614-4058-bdd1-3e76cdcf99ce",
   "metadata": {},
   "outputs": [],
   "source": []
  }
 ],
 "metadata": {
  "kernelspec": {
   "display_name": "Python 3",
   "language": "python",
   "name": "python3"
  },
  "language_info": {
   "codemirror_mode": {
    "name": "ipython",
    "version": 3
   },
   "file_extension": ".py",
   "mimetype": "text/x-python",
   "name": "python",
   "nbconvert_exporter": "python",
   "pygments_lexer": "ipython3",
   "version": "3.9.7"
  }
 },
 "nbformat": 4,
 "nbformat_minor": 5
}
